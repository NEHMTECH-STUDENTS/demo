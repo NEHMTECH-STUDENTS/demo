{
 "cells": [
  {
   "cell_type": "code",
   "execution_count": 1,
   "id": "fcaee0b0-35e9-463f-a7f8-c504e1b5ccc0",
   "metadata": {},
   "outputs": [
    {
     "name": "stdout",
     "output_type": "stream",
     "text": [
      "example.org\n"
     ]
    }
   ],
   "source": [
    "from dotenv import load_dotenv\n",
    "import os\n",
    "\n",
    "load_dotenv()  \n",
    "\n",
    "DOMAIN = os.getenv('DOMAIN')\n",
    "\n",
    "print(DOMAIN)"
   ]
  },
  {
   "cell_type": "code",
   "execution_count": null,
   "id": "4cbba89c-546d-4203-a567-338d1616bb3d",
   "metadata": {},
   "outputs": [],
   "source": []
  }
 ],
 "metadata": {
  "kernelspec": {
   "display_name": "Python 3",
   "language": "python",
   "name": "python3"
  },
  "language_info": {
   "codemirror_mode": {
    "name": "ipython",
    "version": 3
   },
   "file_extension": ".py",
   "mimetype": "text/x-python",
   "name": "python",
   "nbconvert_exporter": "python",
   "pygments_lexer": "ipython3",
   "version": "3.12.10"
  }
 },
 "nbformat": 4,
 "nbformat_minor": 5
}
